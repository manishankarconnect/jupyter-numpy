{
 "cells": [
  {
   "cell_type": "markdown",
   "metadata": {},
   "source": [
    "1. _Version_:"
   ]
  },
  {
   "cell_type": "code",
   "execution_count": 102,
   "metadata": {},
   "outputs": [
    {
     "name": "stdout",
     "output_type": "stream",
     "text": [
      "Git Revision: f8021557bb402c514d8be5a9f005c1565fd57eb8\n",
      "Version: 1.23.4\n",
      "Full Version: 1.23.4\n",
      "Release: True\n"
     ]
    }
   ],
   "source": [
    "import numpy as np\n",
    "print(\"Git Revision: {}\".format(np.version.git_revision))\n",
    "print(\"Version: {}\".format(np.version.version))\n",
    "print(\"Full Version: {}\".format(np.version.full_version))\n",
    "print(\"Release: {}\".format(np.version.release))"
   ]
  },
  {
   "cell_type": "markdown",
   "metadata": {},
   "source": [
    "2. _1D & 2D Arrays_"
   ]
  },
  {
   "cell_type": "code",
   "execution_count": 103,
   "metadata": {},
   "outputs": [
    {
     "name": "stdout",
     "output_type": "stream",
     "text": [
      "Type: <class 'numpy.ndarray'>\n",
      "1D Shape: (3,)\n",
      "1D All: True\n",
      "1D Any: True\n",
      "2D Shape: (2, 3)\n",
      "1 2 4\n",
      "2D Transpose: [[1 4]\n",
      " [2 5]\n",
      " [3 6]]\n",
      "2D Shape: (3, 2)\n"
     ]
    }
   ],
   "source": [
    "# 1D Array\n",
    "a = np.array([1, 2, 3])\n",
    "print(f\"Type: {type(a)}\")\n",
    "print(f\"1D Shape: {a.shape}\")\n",
    "print(f\"1D All: {a.all()}\")\n",
    "print(f\"1D Any: {a.any()}\")\n",
    "\n",
    "#2D Array\n",
    "b = np.array([[1,2,3], [4,5,6]])\n",
    "print(f\"2D Shape: {b.shape}\") # 2 Rows and 3 Columns\n",
    "print(b[0, 0], b[0, 1], b[1, 0])\n",
    "c = b.T\n",
    "print(f\"2D Transpose: {b.T}\")\n",
    "print(f\"2D Shape: {c.shape}\")\n",
    "\n"
   ]
  },
  {
   "cell_type": "markdown",
   "metadata": {},
   "source": [
    "3. _zeros, ones, full, eye, random_"
   ]
  },
  {
   "cell_type": "code",
   "execution_count": 104,
   "metadata": {},
   "outputs": [
    {
     "name": "stdout",
     "output_type": "stream",
     "text": [
      "Zeros Int: [[0 0]\n",
      " [0 0]]\n",
      "Zeros String: [['' '']\n",
      " ['' '']]\n",
      "Ones Int: [[1 1]\n",
      " [1 1]]\n",
      "Ones String: [['1' '1']\n",
      " ['1' '1']]\n",
      "Full Int: [[7 7]\n",
      " [7 7]]\n",
      "Full String: [['e' 'e']\n",
      " ['e' 'e']]\n",
      "Eye Int: [[1 0]\n",
      " [0 1]]\n",
      "Eye Multiplied: [[8 0]\n",
      " [0 8]]\n",
      "Random: [[0.52069711 0.85594105]\n",
      " [0.67629695 0.95073007]]\n",
      "Random rand: [[0.84106133 0.91989746]\n",
      " [0.01088049 0.89453167]\n",
      " [0.84126235 0.14134094]]\n",
      "Random rand from gaussian distribution: [[ 1.66064409  1.11069876]\n",
      " [-1.36521325  0.65004207]\n",
      " [-0.83322307 -0.71654329]]\n",
      "Random Beta distribution: 0.3498400243331455\n",
      "Random State: RandomState(MT19937)\n"
     ]
    }
   ],
   "source": [
    "# Zeros\n",
    "a = np.zeros((2,2), dtype=int) # default float type\n",
    "print(f\"Zeros Int: {a}\")\n",
    "a = np.zeros((2,2), dtype=str) \n",
    "print(f\"Zeros String: {a}\")\n",
    "\n",
    "# Ones\n",
    "a = np.ones((2,2), dtype=int) # default float type\n",
    "print(f\"Ones Int: {a}\")\n",
    "a = np.ones((2,2), dtype=str)\n",
    "print(f\"Ones String: {a}\")\n",
    "\n",
    "# Full\n",
    "a = np.full((2,2), 7, dtype=int) # default float type\n",
    "print(f\"Full Int: {a}\")\n",
    "a = np.full((2,2), \"empty\", dtype=str) # only first char of string used for filling. \n",
    "print(f\"Full String: {a}\")\n",
    "\n",
    "# Eye\n",
    "a = np.eye(2, dtype=int) # default float type\n",
    "print(f\"Eye Int: {a}\")\n",
    "print(f\"Eye Multiplied: {a*8}\")\n",
    "\n",
    "# random\n",
    "print(f\"Random: {np.random.random((2,2))}\")\n",
    "print(f\"Random rand: {np.random.rand(3,2)}\")\n",
    "print(f\"Random rand from gaussian distribution: {np.random.randn(3,2)}\")\n",
    "print(f\"Random Beta distribution: {np.random.beta(3,2)}\")\n",
    "print(f\"Random State: {np.random.RandomState()}\")\n"
   ]
  },
  {
   "cell_type": "markdown",
   "metadata": {},
   "source": [
    "4. _Array indexing_"
   ]
  },
  {
   "cell_type": "code",
   "execution_count": 105,
   "metadata": {},
   "outputs": [
    {
     "name": "stdout",
     "output_type": "stream",
     "text": [
      "Slicing: [[2 3]\n",
      " [6 7]]\n",
      "a and b are shallow copied 77 and 77\n",
      "rows: [[ 1  2  3]\n",
      " [ 5  6  7]\n",
      " [77 10 11]]\n",
      "rows: [[1 2 3 4]\n",
      " [5 6 7 8]]\n"
     ]
    }
   ],
   "source": [
    "a = np.array([[1,2,3,4], [5,6,7,8], [9,10,11,12]])\n",
    "print(f\"Slicing: {a[:2, 1:3]}\")\n",
    "b = a\n",
    "b[2,0] = 77\n",
    "print(f\"a and b are shallow copied {a[2,0]} and {b[2,0]}\")\n",
    "print(f\"rows: {a[:, 0:3]}\")\n",
    "print(f\"rows: {a[0:2, :]}\")"
   ]
  },
  {
   "cell_type": "markdown",
   "metadata": {},
   "source": [
    "5. _Mutating Array_"
   ]
  },
  {
   "cell_type": "code",
   "execution_count": 109,
   "metadata": {},
   "outputs": [
    {
     "name": "stdout",
     "output_type": "stream",
     "text": [
      "[ 1  6  7 11]\n"
     ]
    }
   ],
   "source": [
    "a = np.array([[1,2,3], [4,5,6], [7,8,9], [10, 11, 12]])\n",
    "b = np.array([0, 2, 0, 1]) # Acts as indices\n",
    "print(a[np.arange(4), b])"
   ]
  }
 ],
 "metadata": {
  "kernelspec": {
   "display_name": "Python 3.8.5 ('myenv': venv)",
   "language": "python",
   "name": "python3"
  },
  "language_info": {
   "codemirror_mode": {
    "name": "ipython",
    "version": 3
   },
   "file_extension": ".py",
   "mimetype": "text/x-python",
   "name": "python",
   "nbconvert_exporter": "python",
   "pygments_lexer": "ipython3",
   "version": "3.8.5"
  },
  "orig_nbformat": 4,
  "vscode": {
   "interpreter": {
    "hash": "7942acdd756719760bdb4d3ad5f755ebd8f969b1968cb7cd90f825ffe3a9ea57"
   }
  }
 },
 "nbformat": 4,
 "nbformat_minor": 2
}
