{
 "cells": [
  {
   "cell_type": "markdown",
   "metadata": {},
   "source": [
    "1._Version_:"
   ]
  },
  {
   "cell_type": "code",
   "execution_count": 139,
   "metadata": {
    "tags": []
   },
   "outputs": [
    {
     "name": "stdout",
     "output_type": "stream",
     "text": [
      "Git Revision: f8021557bb402c514d8be5a9f005c1565fd57eb8\n",
      "Version: 1.23.4\n",
      "Full Version: 1.23.4\n",
      "Release: True\n"
     ]
    }
   ],
   "source": [
    "import numpy as np\n",
    "print(\"Git Revision: {}\".format(np.version.git_revision))\n",
    "print(\"Version: {}\".format(np.version.version))\n",
    "print(\"Full Version: {}\".format(np.version.full_version))\n",
    "print(\"Release: {}\".format(np.version.release))"
   ]
  },
  {
   "cell_type": "markdown",
   "metadata": {},
   "source": [
    "2._1D & 2D Arrays_"
   ]
  },
  {
   "cell_type": "code",
   "execution_count": 140,
   "metadata": {},
   "outputs": [
    {
     "name": "stdout",
     "output_type": "stream",
     "text": [
      "Type: <class 'numpy.ndarray'>\n",
      "1D Shape: (3,)\n",
      "1D All: True\n",
      "1D Any: True\n",
      "2D Shape: (2, 3)\n",
      "1 2 4\n",
      "2D Transpose: [[1 4]\n",
      " [2 5]\n",
      " [3 6]]\n",
      "2D Shape: (3, 2)\n"
     ]
    }
   ],
   "source": [
    "# 1D Array\n",
    "a = np.array([1, 2, 3])\n",
    "print(f\"Type: {type(a)}\")\n",
    "print(f\"1D Shape: {a.shape}\")\n",
    "print(f\"1D All: {a.all()}\")\n",
    "print(f\"1D Any: {a.any()}\")\n",
    "\n",
    "#2D Array\n",
    "b = np.array([[1,2,3], [4,5,6]])\n",
    "print(f\"2D Shape: {b.shape}\") # 2 Rows and 3 Columns\n",
    "print(b[0, 0], b[0, 1], b[1, 0])\n",
    "c = b.T\n",
    "print(f\"2D Transpose: {b.T}\")\n",
    "print(f\"2D Shape: {c.shape}\")\n",
    "\n"
   ]
  },
  {
   "cell_type": "markdown",
   "metadata": {},
   "source": [
    "3._zeros, ones, full, eye, random_"
   ]
  },
  {
   "cell_type": "code",
   "execution_count": 141,
   "metadata": {},
   "outputs": [
    {
     "name": "stdout",
     "output_type": "stream",
     "text": [
      "Zeros Int: [[0 0]\n",
      " [0 0]]\n",
      "Zeros String: [['' '']\n",
      " ['' '']]\n",
      "Ones Int: [[1 1]\n",
      " [1 1]]\n",
      "Ones String: [['1' '1']\n",
      " ['1' '1']]\n",
      "Full Int: [[7 7]\n",
      " [7 7]]\n",
      "Full String: [['e' 'e']\n",
      " ['e' 'e']]\n",
      "Eye Int: [[1 0]\n",
      " [0 1]]\n",
      "Eye Multiplied: [[8 0]\n",
      " [0 8]]\n",
      "Random: [[0.12739004 0.39302166]\n",
      " [0.71849262 0.04425358]]\n",
      "Random rand: [[0.91517051 0.66283649]\n",
      " [0.70647164 0.33177161]\n",
      " [0.56984565 0.76062406]]\n",
      "Random rand from gaussian distribution: [[ 1.27656391  1.45329421]\n",
      " [-0.46450789  0.97437681]\n",
      " [-0.15266736  0.34487995]]\n",
      "Random Beta distribution: 0.8436812283052622\n",
      "Random State: RandomState(MT19937)\n"
     ]
    }
   ],
   "source": [
    "# Zeros\n",
    "a = np.zeros((2,2), dtype=int) # default float type\n",
    "print(f\"Zeros Int: {a}\")\n",
    "a = np.zeros((2,2), dtype=str) \n",
    "print(f\"Zeros String: {a}\")\n",
    "\n",
    "# Ones\n",
    "a = np.ones((2,2), dtype=int) # default float type\n",
    "print(f\"Ones Int: {a}\")\n",
    "a = np.ones((2,2), dtype=str)\n",
    "print(f\"Ones String: {a}\")\n",
    "\n",
    "# Full\n",
    "a = np.full((2,2), 7, dtype=int) # default float type\n",
    "print(f\"Full Int: {a}\")\n",
    "a = np.full((2,2), \"empty\", dtype=str) # only first char of string used for filling. \n",
    "print(f\"Full String: {a}\")\n",
    "\n",
    "# Eye\n",
    "a = np.eye(2, dtype=int) # default float type\n",
    "print(f\"Eye Int: {a}\")\n",
    "print(f\"Eye Multiplied: {a*8}\")\n",
    "\n",
    "# random\n",
    "print(f\"Random: {np.random.random((2,2))}\")\n",
    "print(f\"Random rand: {np.random.rand(3,2)}\")\n",
    "print(f\"Random rand from gaussian distribution: {np.random.randn(3,2)}\")\n",
    "print(f\"Random Beta distribution: {np.random.beta(3,2)}\")\n",
    "print(f\"Random State: {np.random.RandomState()}\")\n"
   ]
  },
  {
   "cell_type": "markdown",
   "metadata": {},
   "source": [
    "4._Array indexing_"
   ]
  },
  {
   "cell_type": "code",
   "execution_count": 142,
   "metadata": {},
   "outputs": [
    {
     "name": "stdout",
     "output_type": "stream",
     "text": [
      "Slicing: [[2 3]\n",
      " [6 7]]\n",
      "a and b are shallow copied 77 and 77\n",
      "rows: [[ 1  2  3]\n",
      " [ 5  6  7]\n",
      " [77 10 11]]\n",
      "rows: [[1 2 3 4]\n",
      " [5 6 7 8]]\n"
     ]
    }
   ],
   "source": [
    "a = np.array([[1,2,3,4], [5,6,7,8], [9,10,11,12]])\n",
    "print(f\"Slicing: {a[:2, 1:3]}\")\n",
    "b = a\n",
    "b[2,0] = 77\n",
    "print(f\"a and b are shallow copied {a[2,0]} and {b[2,0]}\")\n",
    "print(f\"rows: {a[:, 0:3]}\")\n",
    "print(f\"rows: {a[0:2, :]}\")"
   ]
  },
  {
   "cell_type": "markdown",
   "metadata": {},
   "source": [
    "5._Mutating Array_"
   ]
  },
  {
   "cell_type": "code",
   "execution_count": 143,
   "metadata": {},
   "outputs": [
    {
     "name": "stdout",
     "output_type": "stream",
     "text": [
      "[ 1  6  7 11]\n",
      "Mutated specific index [[11  2  3]\n",
      " [ 4  5 16]\n",
      " [17  8  9]\n",
      " [10 21 12]]\n"
     ]
    }
   ],
   "source": [
    "a = np.array([[1,2,3], [4,5,6], [7,8,9], [10, 11, 12]])\n",
    "b = np.array([0, 2, 0, 1]) # Acts as indices\n",
    "print(a[np.arange(4), b])\n",
    "a[np.arange(4), b] += 10\n",
    "print(f\"Mutated specific index {a}\")"
   ]
  },
  {
   "cell_type": "markdown",
   "metadata": {},
   "source": [
    "6._Boolean Array indexing_"
   ]
  },
  {
   "cell_type": "code",
   "execution_count": 144,
   "metadata": {},
   "outputs": [
    {
     "name": "stdout",
     "output_type": "stream",
     "text": [
      "Bool indexes [[False False]\n",
      " [ True  True]\n",
      " [ True  True]]\n",
      "[3 4 5 6]\n"
     ]
    }
   ],
   "source": [
    "a = np.array([[1,2], [3, 4], [5, 6]])\n",
    "bool_idx = (a>2)\n",
    "print(f\"Bool indexes {bool_idx}\")\n",
    "print(a[bool_idx]) # or a[a>2]"
   ]
  },
  {
   "cell_type": "markdown",
   "metadata": {},
   "source": [
    "7._Array Math_"
   ]
  },
  {
   "cell_type": "code",
   "execution_count": 145,
   "metadata": {},
   "outputs": [
    {
     "name": "stdout",
     "output_type": "stream",
     "text": [
      "Add: [[ 6.  8.]\n",
      " [10. 12.]]\n",
      "Sub: [[-4. -4.]\n",
      " [-4. -4.]]\n",
      "Mul: [[ 5. 12.]\n",
      " [21. 32.]]\n",
      "Div: [[0.2        0.33333333]\n",
      " [0.42857143 0.5       ]]\n",
      "Mod: [[1. 2.]\n",
      " [3. 4.]]\n",
      "Sqrt: [[1.         1.41421356]\n",
      " [1.73205081 2.        ]]\n",
      "Square: [[ 1.  4.]\n",
      " [ 9. 16.]]\n",
      "Dot: [[19. 22.]\n",
      " [43. 50.]]\n",
      "Sum: 10.0\n",
      "Sum: [4. 6.]\n",
      "Sum: [3. 7.]\n",
      "CPU times: total: 0 ns\n",
      "Wall time: 5.38 ms\n"
     ]
    }
   ],
   "source": [
    "%%time\n",
    "x = np.array([[1,2],[3,4]], dtype=np.float64)\n",
    "y = np.array([[5,6],[7,8]], dtype=np.float64)\n",
    "\n",
    "print(f\"Add: {np.add(x, y)}\") # same as x + y\n",
    "print(f\"Sub: {np.subtract(x, y)}\") # same as x - y\n",
    "print(f\"Mul: {np.multiply(x, y)}\") # same as x * y\n",
    "print(f\"Div: {np.divide(x, y)}\") # same as x / y\n",
    "print(f\"Mod: {np.mod(x, y)}\") # same as x % y\n",
    "print(f\"Sqrt: {np.sqrt(x)}\") # same as x root\n",
    "print(f\"Square: {np.square(x)}\") # same as x square\n",
    "print(f\"Dot: {np.dot(x, y)}\") # same as x dot y as in MATLAB\n",
    "print(f\"Sum: {np.sum(x)}\") # sum of all elements in array\n",
    "print(f\"Sum: {np.sum(x, axis=0)}\") # sum of all elements in across columns.\n",
    "print(f\"Sum: {np.sum(x, axis=1)}\") # sum of all elements in across rows.\n"
   ]
  },
  {
   "cell_type": "markdown",
   "metadata": {},
   "source": [
    "8._Broadcasting_"
   ]
  },
  {
   "cell_type": "code",
   "execution_count": 146,
   "metadata": {},
   "outputs": [
    {
     "name": "stdout",
     "output_type": "stream",
     "text": [
      "Empty Array: [[19. 22.]\n",
      " [43. 50.]]\n",
      "Empty Array Like: [[ 1  2  3]\n",
      " [ 4  5  6]\n",
      " [ 7  8  9]\n",
      " [10 11 12]]\n",
      "Is x == y? [[ True  True  True]\n",
      " [ True  True  True]\n",
      " [ True  True  True]\n",
      " [ True  True  True]]\n",
      "Tile an array and shape: [[1 0 1]\n",
      " [1 0 1]\n",
      " [1 0 1]\n",
      " [1 0 1]], (4, 3)\n",
      "Element wise addition between x and t: [[ 2  2  4]\n",
      " [ 5  5  7]\n",
      " [ 8  8 10]\n",
      " [11 11 13]]\n",
      "Empty Array: [[19. 22.]\n",
      " [43. 50.]]\n",
      "Empty Array Like: [[ 1  2  3]\n",
      " [ 4  5  6]\n",
      " [ 7  8  9]\n",
      " [10 11 12]]\n",
      "Is x == y? [[ True  True  True]\n",
      " [ True  True  True]\n",
      " [ True  True  True]\n",
      " [ True  True  True]]\n",
      "Tile an array and shape: [[1 0 1]\n",
      " [1 0 1]\n",
      " [1 0 1]\n",
      " [1 0 1]], (4, 3)\n",
      "Element wise addition between x and t: [[ 2  2  4]\n",
      " [ 5  5  7]\n",
      " [ 8  8 10]\n",
      " [11 11 13]]\n",
      "Empty Array: [[19. 22.]\n",
      " [43. 50.]]\n",
      "Empty Array Like: [[ 2  2  4]\n",
      " [ 5  5  7]\n",
      " [ 8  8 10]\n",
      " [11 11 13]]\n",
      "Is x == y? [[False  True False]\n",
      " [False  True False]\n",
      " [False  True False]\n",
      " [False  True False]]\n",
      "Tile an array and shape: [[1 0 1]\n",
      " [1 0 1]\n",
      " [1 0 1]\n",
      " [1 0 1]], (4, 3)\n",
      "Element wise addition between x and t: [[ 2  2  4]\n",
      " [ 5  5  7]\n",
      " [ 8  8 10]\n",
      " [11 11 13]]\n",
      "Empty Array: [[19. 22.]\n",
      " [43. 50.]]\n",
      "Empty Array Like: [[ 1  2  3]\n",
      " [ 4  5  6]\n",
      " [ 7  8  9]\n",
      " [10 11 12]]\n",
      "Is x == y? [[ True  True  True]\n",
      " [ True  True  True]\n",
      " [ True  True  True]\n",
      " [ True  True  True]]\n",
      "Tile an array and shape: [[1 0 1]\n",
      " [1 0 1]\n",
      " [1 0 1]\n",
      " [1 0 1]], (4, 3)\n",
      "Element wise addition between x and t: [[ 2  2  4]\n",
      " [ 5  5  7]\n",
      " [ 8  8 10]\n",
      " [11 11 13]]\n",
      "1.05 ms ± 87.7 µs per loop (mean ± std. dev. of 2 runs, 2 loops each)\n"
     ]
    }
   ],
   "source": [
    "%%timeit -r 2 -n 2\n",
    "x = np.array([[1,2,3], [4,5,6], [7,8,9], [10, 11, 12]])\n",
    "v = np.array([1, 0, 1])\n",
    "y = np.empty_like(x)\n",
    "e = np.empty([2,2])\n",
    "print(f\"Empty Array: {e}\")\n",
    "print(f\"Empty Array Like: {y}\")\n",
    "print(f\"Is x == y? {x == y}\")\n",
    "t = np.tile(v, (4, 1))\n",
    "print(f\"Tile an array and shape: {t}, {t.shape}\")\n",
    "y = x + t # Add x and vv elementwise.\n",
    "print(f\"Element wise addition between x and t: {y}\")"
   ]
  }
 ],
 "metadata": {
  "kernelspec": {
   "display_name": "Python 3.8.5 ('myenv': venv)",
   "language": "python",
   "name": "python3"
  },
  "language_info": {
   "codemirror_mode": {
    "name": "ipython",
    "version": 3
   },
   "file_extension": ".py",
   "mimetype": "text/x-python",
   "name": "python",
   "nbconvert_exporter": "python",
   "pygments_lexer": "ipython3",
   "version": "3.8.5"
  },
  "orig_nbformat": 4,
  "vscode": {
   "interpreter": {
    "hash": "7942acdd756719760bdb4d3ad5f755ebd8f969b1968cb7cd90f825ffe3a9ea57"
   }
  }
 },
 "nbformat": 4,
 "nbformat_minor": 2
}
