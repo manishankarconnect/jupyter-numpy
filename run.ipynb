{
 "cells": [
  {
   "cell_type": "code",
   "execution_count": 15,
   "metadata": {},
   "outputs": [
    {
     "name": "stdout",
     "output_type": "stream",
     "text": [
      "Git Revision: f8021557bb402c514d8be5a9f005c1565fd57eb8\n",
      "Version: 1.23.4\n",
      "Full Version: 1.23.4\n",
      "Release: True\n"
     ]
    }
   ],
   "source": [
    "import numpy as np\n",
    "print(\"Git Revision: {}\".format(np.version.git_revision))\n",
    "print(\"Version: {}\".format(np.version.version))\n",
    "print(\"Full Version: {}\".format(np.version.full_version))\n",
    "print(\"Release: {}\".format(np.version.release))"
   ]
  }
 ],
 "metadata": {
  "kernelspec": {
   "display_name": "Python 3.8.5 ('myenv': venv)",
   "language": "python",
   "name": "python3"
  },
  "language_info": {
   "codemirror_mode": {
    "name": "ipython",
    "version": 3
   },
   "file_extension": ".py",
   "mimetype": "text/x-python",
   "name": "python",
   "nbconvert_exporter": "python",
   "pygments_lexer": "ipython3",
   "version": "3.8.5"
  },
  "orig_nbformat": 4,
  "vscode": {
   "interpreter": {
    "hash": "7942acdd756719760bdb4d3ad5f755ebd8f969b1968cb7cd90f825ffe3a9ea57"
   }
  }
 },
 "nbformat": 4,
 "nbformat_minor": 2
}
