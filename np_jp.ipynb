{
 "cells": [
  {
   "cell_type": "markdown",
   "metadata": {},
   "source": [
    "1._Version_:"
   ]
  },
  {
   "cell_type": "code",
   "execution_count": null,
   "metadata": {
    "tags": []
   },
   "outputs": [],
   "source": [
    "import numpy as np\n",
    "print(\"Git Revision: {}\".format(np.version.git_revision))\n",
    "print(\"Version: {}\".format(np.version.version))\n",
    "print(\"Full Version: {}\".format(np.version.full_version))\n",
    "print(\"Release: {}\".format(np.version.release))"
   ]
  },
  {
   "cell_type": "markdown",
   "metadata": {},
   "source": [
    "2._1D & 2D Arrays_"
   ]
  },
  {
   "cell_type": "code",
   "execution_count": null,
   "metadata": {},
   "outputs": [],
   "source": [
    "# 1D Array\n",
    "a = np.array([1, 2, 3])\n",
    "print(f\"Type: {type(a)}\")\n",
    "print(f\"1D Shape: {a.shape}\")\n",
    "print(f\"1D All: {a.all()}\")\n",
    "print(f\"1D Any: {a.any()}\")\n",
    "\n",
    "#2D Array\n",
    "b = np.array([[1,2,3], [4,5,6]])\n",
    "print(f\"2D Shape: {b.shape}\") # 2 Rows and 3 Columns\n",
    "print(b[0, 0], b[0, 1], b[1, 0])\n",
    "c = b.T\n",
    "print(f\"2D Transpose: {b.T}\")\n",
    "print(f\"2D Shape: {c.shape}\")\n",
    "\n"
   ]
  },
  {
   "cell_type": "markdown",
   "metadata": {},
   "source": [
    "3._zeros, ones, full, eye, random_"
   ]
  },
  {
   "cell_type": "code",
   "execution_count": null,
   "metadata": {},
   "outputs": [],
   "source": [
    "# Zeros\n",
    "a = np.zeros((2,2), dtype=int) # default float type\n",
    "print(f\"Zeros Int: {a}\")\n",
    "a = np.zeros((2,2), dtype=str) \n",
    "print(f\"Zeros String: {a}\")\n",
    "\n",
    "# Ones\n",
    "a = np.ones((2,2), dtype=int) # default float type\n",
    "print(f\"Ones Int: {a}\")\n",
    "a = np.ones((2,2), dtype=str)\n",
    "print(f\"Ones String: {a}\")\n",
    "\n",
    "# Full\n",
    "a = np.full((2,2), 7, dtype=int) # default float type\n",
    "print(f\"Full Int: {a}\")\n",
    "a = np.full((2,2), \"empty\", dtype=str) # only first char of string used for filling. \n",
    "print(f\"Full String: {a}\")\n",
    "\n",
    "# Eye\n",
    "a = np.eye(2, dtype=int) # default float type\n",
    "print(f\"Eye Int: {a}\")\n",
    "print(f\"Eye Multiplied: {a*8}\")\n",
    "\n",
    "# random\n",
    "print(f\"Random: {np.random.random((2,2))}\")\n",
    "print(f\"Random rand: {np.random.rand(3,2)}\")\n",
    "print(f\"Random rand from gaussian distribution: {np.random.randn(3,2)}\")\n",
    "print(f\"Random Beta distribution: {np.random.beta(3,2)}\")\n",
    "print(f\"Random State: {np.random.RandomState()}\")\n"
   ]
  },
  {
   "cell_type": "markdown",
   "metadata": {},
   "source": [
    "4._Array indexing_"
   ]
  },
  {
   "cell_type": "code",
   "execution_count": null,
   "metadata": {},
   "outputs": [],
   "source": [
    "a = np.array([[1,2,3,4], [5,6,7,8], [9,10,11,12]])\n",
    "print(f\"Slicing: {a[:2, 1:3]}\")\n",
    "b = a\n",
    "b[2,0] = 77\n",
    "print(f\"a and b are shallow copied {a[2,0]} and {b[2,0]}\")\n",
    "print(f\"rows: {a[:, 0:3]}\")\n",
    "print(f\"rows: {a[0:2, :]}\")"
   ]
  },
  {
   "cell_type": "markdown",
   "metadata": {},
   "source": [
    "5._Mutating Array_"
   ]
  },
  {
   "cell_type": "code",
   "execution_count": null,
   "metadata": {},
   "outputs": [],
   "source": [
    "a = np.array([[1,2,3], [4,5,6], [7,8,9], [10, 11, 12]])\n",
    "b = np.array([0, 2, 0, 1]) # Acts as indices\n",
    "print(a[np.arange(4), b])\n",
    "a[np.arange(4), b] += 10\n",
    "print(f\"Mutated specific index {a}\")"
   ]
  },
  {
   "cell_type": "markdown",
   "metadata": {},
   "source": [
    "6._Boolean Array indexing_"
   ]
  },
  {
   "cell_type": "code",
   "execution_count": null,
   "metadata": {},
   "outputs": [],
   "source": [
    "a = np.array([[1,2,8], [3,4,9], [5,6,7]])\n",
    "bool_idx = (a>2)\n",
    "print(f\"Bool indexes {bool_idx}\")\n",
    "print(a[bool_idx]) # or a[a>2]"
   ]
  },
  {
   "cell_type": "markdown",
   "metadata": {},
   "source": [
    "7._Array Math_"
   ]
  },
  {
   "cell_type": "code",
   "execution_count": null,
   "metadata": {},
   "outputs": [],
   "source": [
    "%%time\n",
    "x = np.array([[1,2],[3,4]], dtype=np.float64)\n",
    "y = np.array([[5,6],[7,8]], dtype=np.float64)\n",
    "\n",
    "print(f\"Add: {np.add(x, y)}\") # same as x + y\n",
    "print(f\"Sub: {np.subtract(x, y)}\") # same as x - y\n",
    "print(f\"Mul: {np.multiply(x, y)}\") # same as x * y\n",
    "print(f\"Div: {np.divide(x, y)}\") # same as x / y\n",
    "print(f\"Mod: {np.mod(x, y)}\") # same as x % y\n",
    "print(f\"Sqrt: {np.sqrt(x)}\") # same as x root\n",
    "print(f\"Square: {np.square(x)}\") # same as x square\n",
    "print(f\"Dot: {np.dot(x, y)}\") # same as x dot y as in MATLAB\n",
    "print(f\"Sum: {np.sum(x)}\") # sum of all elements in array\n",
    "print(f\"Sum: {np.sum(x, axis=0)}\") # sum of all elements in across columns.\n",
    "print(f\"Sum: {np.sum(x, axis=1)}\") # sum of all elements in across rows.\n"
   ]
  },
  {
   "cell_type": "markdown",
   "metadata": {},
   "source": [
    "8._Broadcasting_"
   ]
  },
  {
   "cell_type": "code",
   "execution_count": null,
   "metadata": {},
   "outputs": [],
   "source": [
    "%%timeit -r 2 -n 2\n",
    "x = np.array([[1,2,3], [4,5,6], [7,8,9], [10, 11, 12]])\n",
    "v = np.array([1, 0, 1])\n",
    "y = np.empty_like(x)\n",
    "e = np.empty([2,2])\n",
    "print(f\"Empty Array: {e}\")\n",
    "print(f\"Empty Array Like: {y}\")\n",
    "print(f\"Is x == y? {x == y}\")\n",
    "t = np.tile(v, (4, 1))\n",
    "print(f\"Tile an array and shape: {t}, {t.shape}\")\n",
    "y = x + t # Add x and vv elementwise.\n",
    "print(f\"Element wise addition between x and t: {y}\")"
   ]
  },
  {
   "cell_type": "markdown",
   "metadata": {},
   "source": [
    "_Reshape, Ravel, Flatten_"
   ]
  },
  {
   "cell_type": "code",
   "execution_count": null,
   "metadata": {},
   "outputs": [],
   "source": [
    "%%time\n",
    "x = np.array(np.arange(12), dtype=np.float64)\n",
    "print(x)\n",
    "print(x.shape)\n",
    "r = np.reshape(x, (2,3,2)) # Reshape converts 1D to multidimensional array.\n",
    "print(r)\n",
    "ra = np.ravel(r) # Ravel converts multidimensional array to 1D array.\n",
    "print(ra)\n",
    "f = np.ndarray.flatten(r)\n",
    "print(f)\n"
   ]
  }
 ],
 "metadata": {
  "kernelspec": {
   "display_name": "Python 3.8.5 ('myenv': venv)",
   "language": "python",
   "name": "python3"
  },
  "language_info": {
   "codemirror_mode": {
    "name": "ipython",
    "version": 3
   },
   "file_extension": ".py",
   "mimetype": "text/x-python",
   "name": "python",
   "nbconvert_exporter": "python",
   "pygments_lexer": "ipython3",
   "version": "3.8.5"
  },
  "orig_nbformat": 4,
  "vscode": {
   "interpreter": {
    "hash": "7942acdd756719760bdb4d3ad5f755ebd8f969b1968cb7cd90f825ffe3a9ea57"
   }
  }
 },
 "nbformat": 4,
 "nbformat_minor": 2
}
